{
  "nbformat": 4,
  "nbformat_minor": 0,
  "metadata": {
    "colab": {
      "name": "NDVI2_DesenvolvimetoVV2.ipynb",
      "provenance": [],
      "include_colab_link": true
    },
    "kernelspec": {
      "name": "python3",
      "display_name": "Python 3"
    }
  },
  "cells": [
    {
      "cell_type": "markdown",
      "metadata": {
        "id": "view-in-github",
        "colab_type": "text"
      },
      "source": [
        "<a href=\"https://colab.research.google.com/github/jcmacuacua/codigo-desenvolvimento-ndvi-evi/blob/master/NDVI2_DesenvolvimetoVV2.ipynb\" target=\"_parent\"><img src=\"https://colab.research.google.com/assets/colab-badge.svg\" alt=\"Open In Colab\"/></a>"
      ]
    },
    {
      "cell_type": "markdown",
      "metadata": {
        "id": "QDmVxvusO7hd",
        "colab_type": "text"
      },
      "source": [
        "Apresentacao: **Desenvolvimento de Aplicacoes Espaciais** 2020-Jaime Carlos Macuacua\n",
        "\n",
        "## **Google Earth Engine** é uma plataforma online para o desenvolvimento de análises espaciais usando um extenso banco de imagens aéreas.\n",
        "\n",
        "Irei fazer a **COMPOSIÇÃO DA IMAGEM** e **CALCULAR OS ÍNDICES**, comummente usados, **NDVI** e **EVI**, usando a linguagem de programação através do Google Colab. O Google Colab funciona como um Jupyter Notebook, onde diferentes linhas de código podem ser executados em diferentes células, facilitando a avaliação dos resultados obtidos.\n",
        "\n",
        "O pacote da API do Python na plataforma Google Earth Engine é chamado **ee**. Ele deve ser importado e inicializado para cada nova sessão de script do Python. \n",
        "\n",
        "O primeiro passo deve-se importar a biblioteca de **ee** e autenticar\n",
        "\n",
        "Importou-se o modulo **IPython.display**  que contém a função Image - o módulo exibe os resultados de um URL que representa uma imagem gerada a partir de uma chamada para a função getThumbUrl do Earth Engine.\n",
        "\n",
        "Importou -se a biblioteca **folium** - que facilita a visualização dos dados em um mapa interativo. \n",
        "\n",
        "Também importou-se a biblioteca **matplotlib** para facilitar a visualização de dados em forma de gráficos.\n"
      ]
    },
    {
      "cell_type": "code",
      "metadata": {
        "id": "rJZ2WHlLYKxz",
        "colab_type": "code",
        "colab": {
          "base_uri": "https://localhost:8080/",
          "height": 173
        },
        "outputId": "4aff1387-5b06-4aa4-d641-fb1f77709dd0"
      },
      "source": [
        "import ee\n",
        "ee.Authenticate()\n",
        "ee.Initialize()"
      ],
      "execution_count": null,
      "outputs": [
        {
          "output_type": "stream",
          "text": [
            "To authorize access needed by Earth Engine, open the following URL in a web browser and follow the instructions. If the web browser does not start automatically, please manually browse the URL below.\n",
            "\n",
            "    https://accounts.google.com/o/oauth2/auth?client_id=517222506229-vsmmajv00ul0bs7p89v5m89qs8eb9359.apps.googleusercontent.com&scope=https%3A%2F%2Fwww.googleapis.com%2Fauth%2Fearthengine+https%3A%2F%2Fwww.googleapis.com%2Fauth%2Fdevstorage.full_control&redirect_uri=urn%3Aietf%3Awg%3Aoauth%3A2.0%3Aoob&response_type=code&code_challenge=Bmopgn3FKB-stvXEBAkndJBZ2dBkpwp_tisL-dAGu5s&code_challenge_method=S256\n",
            "\n",
            "The authorization workflow will generate a code, which you should paste in the box below. \n",
            "Enter verification code: 4/4AEqME-eZngFJ5Oz6OZerfYVTbDqrcNbBKG9QgRseMhljumXuVTn8r4\n",
            "\n",
            "Successfully saved authorization token.\n"
          ],
          "name": "stdout"
        }
      ]
    },
    {
      "cell_type": "code",
      "metadata": {
        "id": "1JfajyQAYb_V",
        "colab_type": "code",
        "colab": {}
      },
      "source": [
        "from IPython.display import Image\n",
        "import ee, folium\n",
        "ee.Initialize()"
      ],
      "execution_count": null,
      "outputs": []
    },
    {
      "cell_type": "code",
      "metadata": {
        "id": "wgeQ1wvhYiZX",
        "colab_type": "code",
        "colab": {}
      },
      "source": [
        "%matplotlib inline\n",
        "import matplotlib.pyplot as plt"
      ],
      "execution_count": null,
      "outputs": []
    },
    {
      "cell_type": "markdown",
      "metadata": {
        "id": "sLvHW5j9PvC5",
        "colab_type": "text"
      },
      "source": [
        "Define-se a area de interesse, atraves das cooordenadas. Neste caso temos 4 cooordenadas que cobre **Paraná**. Chama-se a coleção de imagem Landsat (**ee.ImageCollection**). Ainda filtra-se o efeito das nuvens, neste caso a baixo de 2% e por fim filtra-se o período para a análise. "
      ]
    },
    {
      "cell_type": "code",
      "metadata": {
        "id": "TfO7OsK2YzXQ",
        "colab_type": "code",
        "colab": {}
      },
      "source": [
        "area_of_interest = ee.Geometry.Rectangle([-54.6193046378124905,-26.7171220079271947, -48.0235374346286932,-22.5162951645320959])\n",
        "landsat8_collection = ee.ImageCollection('LANDSAT/LC8_L1T_TOA').filterMetadata('CLOUD_COVER', 'less_than', 2).filterDate('2016-01-01', '2018-04-19').min()\n",
        "landsat8_collection = landsat8_collection.slice(0,9)\n",
        "imagem = landsat8_collection.clip(area_of_interest)"
      ],
      "execution_count": null,
      "outputs": []
    },
    {
      "cell_type": "markdown",
      "metadata": {
        "id": "_ou9Ysd0YUnv",
        "colab_type": "text"
      },
      "source": [
        "No Earth Engine, muitas das informações estão salvas no servidor, logo, para acessá-las é necessário usar a função **getInfo()**.\n",
        "\n",
        "O código abaixo irá carregar uma coleção de imagens considerando filtros de data e localização. Em seguida, irá se imprimir as informações sobre quantas imagens. "
      ]
    },
    {
      "cell_type": "code",
      "metadata": {
        "id": "tg9uGXhPWsRZ",
        "colab_type": "code",
        "colab": {
          "base_uri": "https://localhost:8080/",
          "height": 34
        },
        "outputId": "86403f89-a490-4f49-a45b-80271f32314a"
      },
      "source": [
        "imagem = ee.ImageCollection('LANDSAT/LC8_L1T_TOA')\\\n",
        "  .filterDate('2016-01-01', '2018-04-19')\\\n",
        "  .filterBounds(ee.Geometry.Rectangle(-54.6193046378124905,-26.7171220079271947, -48.0235374346286932,-22.5162951645320959))\n",
        "print(\"Quantidade de Imagens: \", imagem.size().getInfo())\n",
        "\n",
        " "
      ],
      "execution_count": null,
      "outputs": [
        {
          "output_type": "stream",
          "text": [
            "Quantidade de Imagens:  645\n"
          ],
          "name": "stdout"
        }
      ]
    },
    {
      "cell_type": "markdown",
      "metadata": {
        "id": "BXnD0kfjJkcq",
        "colab_type": "text"
      },
      "source": [
        "O código abaixo irá carregar uma coleção das datas disponiveis na coleção de imagens. Em seguida, irá se imprimir as informações sobre as: **Datas  disponiveis.**"
      ]
    },
    {
      "cell_type": "code",
      "metadata": {
        "id": "NudVXwkgJil5",
        "colab_type": "code",
        "colab": {}
      },
      "source": [
        "def ymdList(imgcol):\n",
        "    def iter_func(imagem, newlist):\n",
        "        date = ee.Number.parse(imagem.date().format(\"YYYYMMdd\"));\n",
        "        newlist = ee.List(newlist);\n",
        "        return ee.List(newlist.add(date).sort())\n",
        "    ymd = imgcol.iterate(iter_func, ee.List([]))\n",
        "    return list(ee.List(ymd).reduce(ee.Reducer.frequencyHistogram()).getInfo().keys())"
      ],
      "execution_count": null,
      "outputs": []
    },
    {
      "cell_type": "code",
      "metadata": {
        "id": "lk6J_O_7MNqe",
        "colab_type": "code",
        "colab": {
          "base_uri": "https://localhost:8080/",
          "height": 54
        },
        "outputId": "b750a19a-6ce2-4a29-ec5e-7f2bc15d940f"
      },
      "source": [
        "print('Datas disponíveis: ', ymdList(imagem))"
      ],
      "execution_count": null,
      "outputs": [
        {
          "output_type": "stream",
          "text": [
            "Datas disponíveis:  ['20160102', '20160104', '20160109', '20160111', '20160113', '20160116', '20160118', '20160120', '20160125', '20160127', '20160129', '20160201', '20160203', '20160205', '20160210', '20160212', '20160214', '20160217', '20160219', '20160221', '20160226', '20160228', '20160301', '20160304', '20160306', '20160308', '20160313', '20160315', '20160317', '20160320', '20160322', '20160324', '20160329', '20160331', '20160402', '20160405', '20160407', '20160409', '20160414', '20160416', '20160418', '20160421', '20160423', '20160425', '20160428', '20160430', '20160502', '20160504', '20160507', '20160509', '20160511', '20160516', '20160518', '20160523', '20160525', '20160527', '20160601', '20160603', '20160608', '20160610', '20160612', '20160617', '20160619', '20160624', '20160626', '20160628', '20160703', '20160705', '20160707', '20160710', '20160712', '20160714', '20160719', '20160721', '20160723', '20160726', '20160728', '20160730', '20160804', '20160806', '20160811', '20160813', '20160815', '20160820', '20160822', '20160824', '20160827', '20160829', '20160831', '20160905', '20160907', '20160909', '20160912', '20160914', '20160916', '20160921', '20160923', '20160928', '20160930', '20161002', '20161007', '20161009', '20161014', '20161016', '20161018', '20161023', '20161027', '20161030', '20161101', '20161103', '20161108', '20161110', '20161112', '20161115', '20161117', '20161119', '20161124', '20161126', '20161128', '20161201', '20161205', '20161210', '20161212', '20161217', '20161219', '20161221', '20161226', '20161228', '20170102', '20170104', '20170106', '20170111', '20170113', '20170115', '20170118', '20170120', '20170122', '20170127', '20170129', '20170203', '20170205', '20170207', '20170212', '20170214', '20170216', '20170219', '20170221', '20170223', '20170228', '20170302', '20170304', '20170307', '20170309', '20170311', '20170316', '20170318', '20170323', '20170325', '20170401', '20170403', '20170408', '20170410', '20170412', '20170417', '20170419', '20170424', '20170426', '20170428']\n"
          ],
          "name": "stdout"
        }
      ]
    },
    {
      "cell_type": "markdown",
      "metadata": {
        "id": "TAr7eSoFE0v3",
        "colab_type": "text"
      },
      "source": [
        "Tendo as imagens da área de estudo, já podem ser visualizadas. Há várias formas de visualizar imagens do Earth Engine em python, no presente estudo usou-se a biblioteca Folium.\n",
        "\n",
        "Primeiro fez-se a **composição de bandas**. A combinação das bandas depende do objectivo do trabalho, mas é preciso conhecer as características do sensor e de cada banda. Por exemplo: para fazer a composição bandas pode-se ter em enfase a cor natural, ou seja, a composição falsa cor - RGB 4,3,2. No entanto, a composição falsa  cor para **áreas urbanas** é 7, 6, 4; Infravermelho **(vegetação)** 5, 4, 3; **Agricultura** 6, 5,2; **Penetração atmosférica** 7, 6, 5. "
      ]
    },
    {
      "cell_type": "code",
      "metadata": {
        "id": "7T3xZ9JWbA5F",
        "colab_type": "code",
        "colab": {
          "base_uri": "https://localhost:8080/",
          "height": 712
        },
        "outputId": "e062b36d-fe46-453d-cf44-e4d7f89c116c"
      },
      "source": [
        "vis = {\n",
        "    'bands': ['B7', 'B6', 'B4'],\n",
        "    'min': 0,\n",
        "    'max': 0.5,\n",
        "    'gamma': [0.95, 1.1, 1],\n",
        "    'region':area_of_interest} \n",
        "image = landsat8_collection.clip(area_of_interest)\n",
        "mapid = image.getMapId(vis)\n",
        "map = folium.Map(location=[-26.7171220079271947, -48.0235374346286932],zoom_start=9, height=500,width=700)\n",
        "folium.TileLayer(\n",
        "    tiles=mapid['tile_fetcher'].url_format,\n",
        "    attr='Map Data &copy; <a href=\"https://earthengine.google.com/\">Google Earth Engine</a>',\n",
        "    overlay=True,\n",
        "    name='Landsat 8 ',\n",
        "  ).add_to(map)\n",
        "map.add_child(folium.LayerControl())\n",
        "map"
      ],
      "execution_count": null,
      "outputs": [
        {
          "output_type": "execute_result",
          "data": {
            "text/html": [
              "<div style=\"width:100%;\"><div style=\"position:relative;width:100%;height:0;padding-bottom:60%;\"><span style=\"color:#565656\">Make this Notebook Trusted to load map: File -> Trust Notebook</span><iframe src=\"about:blank\" style=\"position:absolute;width:100%;height:100%;left:0;top:0;border:none !important;\" data-html=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 onload=\"this.contentDocument.open();this.contentDocument.write(atob(this.getAttribute('data-html')));this.contentDocument.close();\" allowfullscreen webkitallowfullscreen mozallowfullscreen></iframe></div></div>"
            ],
            "text/plain": [
              "<folium.folium.Map at 0x7efef75195f8>"
            ]
          },
          "metadata": {
            "tags": []
          },
          "execution_count": 8
        }
      ]
    },
    {
      "cell_type": "markdown",
      "metadata": {
        "id": "_tgWeDSaO1J7",
        "colab_type": "text"
      },
      "source": [
        "Há diferentes formas de calcular o NDVI no Earth Engine, a mais fácil é chamando a função **normalizedDifference()**, aplicada no presente trabalho, outra forma usa-se a função expressão que possibilita maior flexibilidade para os cálculos: **NDVI** = (NIR — Red)/(NIR + Red). \n",
        "\n",
        "Para o cálculo de Enhanced Vegetation Index (**EVI**) usou-se a função expressão: Gain_Factor*((NIR-RED)/(NIR+C1*RED-C2*BLUE+L)). Lembrar que os valores dos índices variam de -1 a +1. \n",
        "\n",
        "NDVI - é sensível à presença de clorofila na vegetação.\n",
        "\n",
        "EVI - sensível às variações estruturais do dossel em regiões com alta densidade de biomassa, por ter sido melhorado por meio da redução da influência da atmosfera e da dissociação do sinal de fundo do dossel vegetal. \n",
        "\n"
      ]
    },
    {
      "cell_type": "code",
      "metadata": {
        "id": "HllKNYnZkgC_",
        "colab_type": "code",
        "colab": {}
      },
      "source": [
        "def NDVI(image):\n",
        "    return image.normalizedDifference(['B5', 'B4'])\n",
        "\n",
        "def EVI(image):\n",
        "    # L( ajuste de fundo do dossel vegetal L=1)\n",
        "    # C1,C2(Coeficientes de ajuste da influência dos aerossóis (C1=6; C2=7,5).\n",
        "    # G=GainFactor(fator de ganho, geralmente assume valor de 2,5)\n",
        "    gain_factor = ee.Image(2.5);\n",
        "    coefficient_1 = ee.Image(6);\n",
        "    coefficient_2 = ee.Image(7.5);\n",
        "    l = ee.Image(1);\n",
        "    nir = image.select(\"B5\");\n",
        "    red = image.select(\"B4\");\n",
        "    blue = image.select(\"B2\");\n",
        "    evi = image.expression(\n",
        "        \"Gain_Factor*((NIR-RED)/(NIR+C1*RED-C2*BLUE+L))\",\n",
        "        {\n",
        "            \"Gain_Factor\":gain_factor,\n",
        "            \"NIR\":nir,\n",
        "            \"RED\":red,\n",
        "            \"C1\":coefficient_1,\n",
        "            \"C2\":coefficient_2,\n",
        "            \"BLUE\":blue,\n",
        "            \"L\":l\n",
        "        }\n",
        "    )\n",
        "    return evi"
      ],
      "execution_count": null,
      "outputs": []
    },
    {
      "cell_type": "markdown",
      "metadata": {
        "id": "GCFERvIHN0wt",
        "colab_type": "text"
      },
      "source": [
        "Aqui sao apresentados os dois índices calculados (NDVI e EVI) na funcao acima. "
      ]
    },
    {
      "cell_type": "code",
      "metadata": {
        "id": "1wjgrmmKLseH",
        "colab_type": "code",
        "colab": {}
      },
      "source": [
        "ndvi = NDVI(landsat8_collection)\n",
        "evi = EVI(landsat8_collection)"
      ],
      "execution_count": null,
      "outputs": []
    },
    {
      "cell_type": "markdown",
      "metadata": {
        "id": "Dosn4SjiMqYU",
        "colab_type": "text"
      },
      "source": [
        "O código que se segue permite visualizar o NDVI da área de estudo e definiu se o palette das cores - neste caso assumiu-se as seguintes cores [blue, white, green]."
      ]
    },
    {
      "cell_type": "code",
      "metadata": {
        "id": "PBt0ldgcmCSB",
        "colab_type": "code",
        "colab": {
          "base_uri": "https://localhost:8080/",
          "height": 712
        },
        "outputId": "56e0e82a-47ad-4d94-aa9a-0f41508aaf69"
      },
      "source": [
        "image = ndvi.clip(area_of_interest)\n",
        "\n",
        "vis_ndvi = {'min':-1,'max':1, 'palette': ['blue', 'white', 'green'],'size':'800',\n",
        "           'region':area_of_interest}\n",
        "\n",
        "mapid = image.getMapId(vis_ndvi)\n",
        "\n",
        "map = folium.Map(location=[-26.7171220079271947, -48.0235374346286932],zoom_start=9, height=500,width=700)\n",
        "folium.TileLayer(\n",
        "    tiles=mapid['tile_fetcher'].url_format,\n",
        "    attr='Map Data &copy; <a href=\"https://earthengine.google.com/\">Google Earth Engine</a>',\n",
        "    overlay=True,\n",
        "    name='NDVI',\n",
        "  ).add_to(map)\n",
        "\n",
        "map.add_child(folium.LayerControl())\n",
        "map"
      ],
      "execution_count": null,
      "outputs": [
        {
          "output_type": "execute_result",
          "data": {
            "text/html": [
              "<div style=\"width:100%;\"><div style=\"position:relative;width:100%;height:0;padding-bottom:60%;\"><span style=\"color:#565656\">Make this Notebook Trusted to load map: File -> Trust Notebook</span><iframe src=\"about:blank\" style=\"position:absolute;width:100%;height:100%;left:0;top:0;border:none !important;\" data-html=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 onload=\"this.contentDocument.open();this.contentDocument.write(atob(this.getAttribute('data-html')));this.contentDocument.close();\" allowfullscreen webkitallowfullscreen mozallowfullscreen></iframe></div></div>"
            ],
            "text/plain": [
              "<folium.folium.Map at 0x7efef6c72ef0>"
            ]
          },
          "metadata": {
            "tags": []
          },
          "execution_count": 11
        }
      ]
    },
    {
      "cell_type": "markdown",
      "metadata": {
        "id": "RcEHAZRpSnZB",
        "colab_type": "text"
      },
      "source": [
        "O código que se segue permite visualizar o EVI da área de estudo e definiu se também palette de cores - neste caso assumiu-se as seguintes cores: [blue, white, green]."
      ]
    },
    {
      "cell_type": "code",
      "metadata": {
        "id": "qpj6Wb0uxEHa",
        "colab_type": "code",
        "colab": {
          "base_uri": "https://localhost:8080/",
          "height": 712
        },
        "outputId": "e2a9dc1d-bdb7-4160-fde8-91d480d49bdd"
      },
      "source": [
        "image = evi.clip(area_of_interest)\n",
        "\n",
        "vis_evi = {'min':-1,'max':1, 'palette': ['blue', 'white', 'green'] ,'size':'800',\n",
        "           'region':area_of_interest}\n",
        "\n",
        "mapid = image.getMapId(vis_evi)\n",
        "\n",
        "map = folium.Map(location=[-26.7171220079271947, -48.0235374346286932],zoom_start=9, height=500,width=700)\n",
        "folium.TileLayer(\n",
        "    tiles=mapid['tile_fetcher'].url_format,\n",
        "    attr='Map Data &copy; <a href=\"https://earthengine.google.com/\">Google Earth Engine</a>',\n",
        "    overlay=True,\n",
        "    name='EVI',\n",
        "  ).add_to(map)\n",
        "\n",
        "map.add_child(folium.LayerControl())\n",
        "map"
      ],
      "execution_count": null,
      "outputs": [
        {
          "output_type": "execute_result",
          "data": {
            "text/html": [
              "<div style=\"width:100%;\"><div style=\"position:relative;width:100%;height:0;padding-bottom:60%;\"><span style=\"color:#565656\">Make this Notebook Trusted to load map: File -> Trust Notebook</span><iframe src=\"about:blank\" style=\"position:absolute;width:100%;height:100%;left:0;top:0;border:none !important;\" data-html=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 onload=\"this.contentDocument.open();this.contentDocument.write(atob(this.getAttribute('data-html')));this.contentDocument.close();\" allowfullscreen webkitallowfullscreen mozallowfullscreen></iframe></div></div>"
            ],
            "text/plain": [
              "<folium.folium.Map at 0x7efef6c72a90>"
            ]
          },
          "metadata": {
            "tags": []
          },
          "execution_count": 12
        }
      ]
    },
    {
      "cell_type": "markdown",
      "metadata": {
        "id": "KJRPyUZFN9A7",
        "colab_type": "text"
      },
      "source": [
        "Algumas funções do Earth Engine produzem dados tabulares que podem ser plotados por pacotes de visualização de dados, como é o caso da **biblioteca matplotlib**.\n",
        "\n",
        "Tendo a imagem , selecionamos as bandas de interesse, dimensionar-as, fazendo uma amostra (pode-se 400 pontos ou mais) e organiza a amostra numa lista e salve a lista e depois plotar o gráfico."
      ]
    },
    {
      "cell_type": "code",
      "metadata": {
        "id": "i3MMfonR-SWt",
        "colab_type": "code",
        "colab": {}
      },
      "source": [
        "imagem = ee.Image('LANDSAT/LT05/C01/T1_SR/LT05_034033_20000913')\n",
        "\n",
        "samp_fc = imagem.select(['B3','B4']).divide(10000).sample(scale=30, numPixels=400)\n",
        "\n",
        "samp_dict = samp_fc.reduceColumns(ee.Reducer.toList().repeat(2), ['B3', 'B4'])\n",
        "samp_list = ee.List(samp_dict.get('list'))\n",
        "\n",
        "samp_data = samp_list.getInfo()"
      ],
      "execution_count": null,
      "outputs": []
    },
    {
      "cell_type": "code",
      "metadata": {
        "id": "Ts_WUtNVPf_k",
        "colab_type": "code",
        "colab": {
          "base_uri": "https://localhost:8080/",
          "height": 284
        },
        "outputId": "914ca050-2325-4c34-a505-94ab9517db39"
      },
      "source": [
        "plt.scatter(samp_data[0], samp_data[1], alpha=0.2)\n",
        "plt.xlabel('Red', fontsize=12)\n",
        "plt.ylabel('NIR', fontsize=12)\n",
        "plt.show()"
      ],
      "execution_count": null,
      "outputs": [
        {
          "output_type": "display_data",
          "data": {
            "image/png": "[encoded data removed]",
            "text/plain": [
              "<Figure size 432x288 with 1 Axes>"
            ]
          },
          "metadata": {
            "tags": [],
            "needs_background": "light"
          }
        }
      ]
    }
  ]
}